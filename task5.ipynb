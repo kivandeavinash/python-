{
 "cells": [
  {
   "cell_type": "code",
   "execution_count": null,
   "id": "c27597b1",
   "metadata": {},
   "outputs": [],
   "source": [
    "# task 5 from the following dictionary do the task\n",
    "# access \"mike\"\n",
    "# access 80\n",
    "# change \"mike\" to \"your name\"\n",
    "# add ML=80and DL=80 inside marks"
   ]
  },
  {
   "cell_type": "code",
   "execution_count": 1,
   "id": "4bb4c38e",
   "metadata": {},
   "outputs": [
    {
     "data": {
      "text/plain": [
       "{'april_batch': {'student': {'name': 'MIKE',\n",
       "   'marks': {'python': 80, 'mark': 70}}}}"
      ]
     },
     "execution_count": 1,
     "metadata": {},
     "output_type": "execute_result"
    }
   ],
   "source": [
    "dict1 = {\"april_batch\":{\"student\":{\"name\":\"MIKE\",\"marks\":{\"python\":80,\"mark\":70}}}}\n",
    "dict1"
   ]
  },
  {
   "cell_type": "code",
   "execution_count": 3,
   "id": "8a22afdc",
   "metadata": {},
   "outputs": [
    {
     "data": {
      "text/plain": [
       "'MIKE'"
      ]
     },
     "execution_count": 3,
     "metadata": {},
     "output_type": "execute_result"
    }
   ],
   "source": [
    "# access \"MIKE\"\n",
    "dict1[\"april_batch\"][\"student\"][\"name\"]"
   ]
  },
  {
   "cell_type": "code",
   "execution_count": 4,
   "id": "14dea2b1",
   "metadata": {},
   "outputs": [
    {
     "data": {
      "text/plain": [
       "80"
      ]
     },
     "execution_count": 4,
     "metadata": {},
     "output_type": "execute_result"
    }
   ],
   "source": [
    "# access 80\n",
    "dict1[\"april_batch\"][\"student\"][\"marks\"][\"python\"]"
   ]
  },
  {
   "cell_type": "code",
   "execution_count": 5,
   "id": "77439bf6",
   "metadata": {},
   "outputs": [],
   "source": [
    "# change \"MIKE\" to \"your name\"\n",
    "dict1[\"april_batch\"][\"student\"][\"name\"] = \"avinash\""
   ]
  },
  {
   "cell_type": "code",
   "execution_count": 6,
   "id": "467d7bbf",
   "metadata": {},
   "outputs": [
    {
     "name": "stdout",
     "output_type": "stream",
     "text": [
      "{'april_batch': {'student': {'name': 'avinash', 'marks': {'python': 80, 'mark': 70}}}}\n"
     ]
    }
   ],
   "source": [
    "print(dict1)"
   ]
  },
  {
   "cell_type": "code",
   "execution_count": 9,
   "id": "bd7262b4",
   "metadata": {},
   "outputs": [],
   "source": [
    "# add ML=80 and DL=80 inside mark\n",
    "dict1[\"april_batch\"][\"student\"][\"marks\"].update({\"ML\":80,\"DL\":80})"
   ]
  },
  {
   "cell_type": "code",
   "execution_count": 17,
   "id": "63e38069",
   "metadata": {
    "collapsed": true
   },
   "outputs": [
    {
     "ename": "NameError",
     "evalue": "name 'dict1' is not defined",
     "output_type": "error",
     "traceback": [
      "\u001b[1;31m---------------------------------------------------------------------------\u001b[0m",
      "\u001b[1;31mNameError\u001b[0m                                 Traceback (most recent call last)",
      "\u001b[1;32m~\\AppData\\Local\\Temp/ipykernel_6528/1762997953.py\u001b[0m in \u001b[0;36m<module>\u001b[1;34m\u001b[0m\n\u001b[1;32m----> 1\u001b[1;33m \u001b[0mprint\u001b[0m\u001b[1;33m(\u001b[0m\u001b[0mdict1\u001b[0m\u001b[1;33m)\u001b[0m\u001b[1;33m\u001b[0m\u001b[1;33m\u001b[0m\u001b[0m\n\u001b[0m",
      "\u001b[1;31mNameError\u001b[0m: name 'dict1' is not defined"
     ]
    }
   ],
   "source": [
    "print(dict1)"
   ]
  },
  {
   "cell_type": "code",
   "execution_count": null,
   "id": "a990e944",
   "metadata": {},
   "outputs": [],
   "source": []
  },
  {
   "cell_type": "code",
   "execution_count": null,
   "id": "5e1652bf",
   "metadata": {},
   "outputs": [],
   "source": []
  },
  {
   "cell_type": "code",
   "execution_count": null,
   "id": "2680de6d",
   "metadata": {},
   "outputs": [],
   "source": [
    "#6 Add and remove the elements from a tuple"
   ]
  },
  {
   "cell_type": "code",
   "execution_count": 1,
   "id": "6b101d28",
   "metadata": {},
   "outputs": [
    {
     "data": {
      "text/plain": [
       "(1, 2, 3, 4, 5, 6, 7)"
      ]
     },
     "execution_count": 1,
     "metadata": {},
     "output_type": "execute_result"
    }
   ],
   "source": [
    "tup1 = (1,2,3,4,5,6,7)\n",
    "tup1"
   ]
  },
  {
   "cell_type": "code",
   "execution_count": 2,
   "id": "4d0168c8",
   "metadata": {},
   "outputs": [],
   "source": [
    "# convert tuple into list"
   ]
  },
  {
   "cell_type": "code",
   "execution_count": 3,
   "id": "9b940b8d",
   "metadata": {},
   "outputs": [],
   "source": [
    "list1 = list(tup1)"
   ]
  },
  {
   "cell_type": "code",
   "execution_count": 5,
   "id": "4f9970b2",
   "metadata": {},
   "outputs": [
    {
     "data": {
      "text/plain": [
       "[1, 2, 3, 4, 5, 6, 7]"
      ]
     },
     "execution_count": 5,
     "metadata": {},
     "output_type": "execute_result"
    }
   ],
   "source": [
    "list1"
   ]
  },
  {
   "cell_type": "code",
   "execution_count": 9,
   "id": "b7776249",
   "metadata": {},
   "outputs": [
    {
     "name": "stdout",
     "output_type": "stream",
     "text": [
      "[1, 15, 25, 35, 45, 55, 3, 2, 3, 4, 5, 6, 7]\n"
     ]
    }
   ],
   "source": [
    "# assign the data\n",
    "list1.insert(1,15)\n",
    "list1.insert(2,25)\n",
    "list1.insert(3,35)\n",
    "list1.insert(4,45)\n",
    "list1.insert(5,55)\n",
    "print(list1)"
   ]
  },
  {
   "cell_type": "code",
   "execution_count": 10,
   "id": "20c7e325",
   "metadata": {},
   "outputs": [
    {
     "name": "stdout",
     "output_type": "stream",
     "text": [
      "(1, 15, 25, 35, 45, 55, 3, 2, 3, 4, 5, 6, 7)\n"
     ]
    }
   ],
   "source": [
    "# convert list into tuple\n",
    "tup2=tuple(list1)\n",
    "print(tup2)"
   ]
  },
  {
   "cell_type": "code",
   "execution_count": 11,
   "id": "b31a1974",
   "metadata": {},
   "outputs": [
    {
     "data": {
      "text/plain": [
       "tuple"
      ]
     },
     "execution_count": 11,
     "metadata": {},
     "output_type": "execute_result"
    }
   ],
   "source": [
    "type(tup2)"
   ]
  },
  {
   "cell_type": "code",
   "execution_count": 12,
   "id": "f40dae26",
   "metadata": {},
   "outputs": [
    {
     "name": "stdout",
     "output_type": "stream",
     "text": [
      "[1, 15, 25, 35, 45, 55, 3, 2, 3, 4, 5, 6, 7]\n"
     ]
    }
   ],
   "source": [
    "# removing data\n",
    "# convert tuple to list\n",
    "list2=list(tup2)\n",
    "print(list2)"
   ]
  },
  {
   "cell_type": "code",
   "execution_count": 14,
   "id": "eedae529",
   "metadata": {},
   "outputs": [
    {
     "name": "stdout",
     "output_type": "stream",
     "text": [
      "[1, 25, 35, 45, 55, 3, 2, 3, 4, 5, 6, 7]\n"
     ]
    }
   ],
   "source": [
    "list2.remove(15)\n",
    "print(list2)"
   ]
  },
  {
   "cell_type": "code",
   "execution_count": null,
   "id": "c8de4718",
   "metadata": {},
   "outputs": [],
   "source": []
  }
 ],
 "metadata": {
  "kernelspec": {
   "display_name": "Python 3 (ipykernel)",
   "language": "python",
   "name": "python3"
  },
  "language_info": {
   "codemirror_mode": {
    "name": "ipython",
    "version": 3
   },
   "file_extension": ".py",
   "mimetype": "text/x-python",
   "name": "python",
   "nbconvert_exporter": "python",
   "pygments_lexer": "ipython3",
   "version": "3.9.7"
  }
 },
 "nbformat": 4,
 "nbformat_minor": 5
}
