{
 "cells": [
  {
   "cell_type": "code",
   "execution_count": 1,
   "id": "15f8d020",
   "metadata": {},
   "outputs": [],
   "source": [
    "# using while loops"
   ]
  },
  {
   "cell_type": "code",
   "execution_count": 2,
   "id": "2b2a807b",
   "metadata": {},
   "outputs": [
    {
     "name": "stdout",
     "output_type": "stream",
     "text": [
      "1\n",
      "2\n",
      "3\n",
      "4\n",
      "5\n",
      "6\n",
      "7\n",
      "8\n",
      "9\n"
     ]
    }
   ],
   "source": [
    "count=1\n",
    "while (count<10):\n",
    "    print(count)\n",
    "    count= count+1"
   ]
  },
  {
   "cell_type": "code",
   "execution_count": 3,
   "id": "2d13b487",
   "metadata": {},
   "outputs": [
    {
     "name": "stdout",
     "output_type": "stream",
     "text": [
      "1\n",
      "2\n",
      "3\n",
      "4\n"
     ]
    }
   ],
   "source": [
    "count = 1\n",
    "while (count<5):\n",
    "    print(count)\n",
    "    count= count+1"
   ]
  },
  {
   "cell_type": "code",
   "execution_count": 4,
   "id": "43fd9135",
   "metadata": {},
   "outputs": [],
   "source": [
    "# using while else"
   ]
  },
  {
   "cell_type": "code",
   "execution_count": 12,
   "id": "b37ce384",
   "metadata": {},
   "outputs": [
    {
     "name": "stdout",
     "output_type": "stream",
     "text": [
      "1\n",
      "2\n",
      "3\n",
      "4\n",
      "5\n",
      "6\n",
      "7\n",
      "end of while loop\n",
      "8\n"
     ]
    }
   ],
   "source": [
    "count=1\n",
    "while (count<8):\n",
    "    print(count)\n",
    "    count =count+1\n",
    "else:\n",
    "    print(\"end of while loop\")\n",
    "    print(count)"
   ]
  },
  {
   "cell_type": "code",
   "execution_count": null,
   "id": "1f7e76a2",
   "metadata": {},
   "outputs": [],
   "source": [
    "# using for loops to loop tuples"
   ]
  },
  {
   "cell_type": "code",
   "execution_count": 13,
   "id": "85f49606",
   "metadata": {},
   "outputs": [
    {
     "name": "stdout",
     "output_type": "stream",
     "text": [
      "10\n",
      "20\n",
      "30\n",
      "hello\n",
      "True\n",
      "False\n",
      "python\n"
     ]
    }
   ],
   "source": [
    "tup1 = (10, 20, 30, \"hello\", True, False, \"python\")\n",
    "\n",
    "for item in tup1:\n",
    "    print(item)"
   ]
  },
  {
   "cell_type": "code",
   "execution_count": null,
   "id": "55f07035",
   "metadata": {},
   "outputs": [],
   "source": [
    "# for using to loops to loop sets"
   ]
  },
  {
   "cell_type": "code",
   "execution_count": 14,
   "id": "022d9ac3",
   "metadata": {},
   "outputs": [
    {
     "name": "stdout",
     "output_type": "stream",
     "text": [
      "False\n",
      "True\n",
      "20\n",
      "20.34\n",
      "python\n",
      "10\n",
      "30\n"
     ]
    }
   ],
   "source": [
    "set1 = { 10, 20,30,20.34,\"python\", True, False, 10,20}\n",
    "\n",
    "for item in set1:\n",
    "    print(item)"
   ]
  },
  {
   "cell_type": "code",
   "execution_count": null,
   "id": "a7fd4141",
   "metadata": {},
   "outputs": [],
   "source": [
    "# using for dictionary"
   ]
  },
  {
   "cell_type": "code",
   "execution_count": 15,
   "id": "b6c7d56c",
   "metadata": {},
   "outputs": [
    {
     "name": "stdout",
     "output_type": "stream",
     "text": [
      "brand\n",
      "year\n",
      "cost\n",
      "model\n"
     ]
    }
   ],
   "source": [
    "dict1 = {\"brand\":\"hero\",\"year\":2010,\"cost\":85000,\"model\":\"meastro\"}\n",
    "\n",
    "for item in dict1:\n",
    "    print(item)"
   ]
  },
  {
   "cell_type": "code",
   "execution_count": null,
   "id": "f5cbe8f3",
   "metadata": {},
   "outputs": [],
   "source": [
    "# range (start,stop,step)\n",
    "# The range() functions is used to generate a sequence of numbers over time.\n",
    "# start=starting position(0)\n",
    "# stop=end position\n",
    "#step=step size(1)\n",
    "# range(10)=10 is the stop parameter\n",
    "#range(1,10)=1 is the start, 10 is the stop parametr\n",
    "#range(1,10,3)=1 is start, 10 is stop, 3 is step"
   ]
  },
  {
   "cell_type": "code",
   "execution_count": 18,
   "id": "b71ecc1d",
   "metadata": {},
   "outputs": [
    {
     "name": "stdout",
     "output_type": "stream",
     "text": [
      "0\n",
      "1\n",
      "2\n",
      "3\n",
      "4\n",
      "5\n",
      "6\n",
      "7\n",
      "8\n",
      "9\n"
     ]
    }
   ],
   "source": [
    "for i in range(10):\n",
    "    print(i)"
   ]
  },
  {
   "cell_type": "code",
   "execution_count": 19,
   "id": "230545ea",
   "metadata": {},
   "outputs": [
    {
     "name": "stdout",
     "output_type": "stream",
     "text": [
      "1\n",
      "2\n",
      "3\n",
      "4\n",
      "5\n",
      "6\n",
      "7\n",
      "8\n",
      "9\n",
      "10\n",
      "11\n"
     ]
    }
   ],
   "source": [
    "for i in range(1, 12):\n",
    "    print(i)"
   ]
  },
  {
   "cell_type": "code",
   "execution_count": 20,
   "id": "3c6a0345",
   "metadata": {},
   "outputs": [
    {
     "name": "stdout",
     "output_type": "stream",
     "text": [
      "1\n",
      "5\n",
      "9\n"
     ]
    }
   ],
   "source": [
    "for i in range(1,10,4):\n",
    "    print(i)"
   ]
  },
  {
   "cell_type": "code",
   "execution_count": null,
   "id": "8fa9f81e",
   "metadata": {},
   "outputs": [],
   "source": [
    "# using continous function in for loops"
   ]
  },
  {
   "cell_type": "code",
   "execution_count": 21,
   "id": "5917b0d2",
   "metadata": {},
   "outputs": [],
   "source": [
    "for i in range(10):\n",
    "    if(i==4 or i==5 or i==6):\n",
    "        continue\n",
    "        print(i)"
   ]
  },
  {
   "cell_type": "code",
   "execution_count": null,
   "id": "cc46aa51",
   "metadata": {},
   "outputs": [],
   "source": [
    "# looping for reverse order"
   ]
  },
  {
   "cell_type": "code",
   "execution_count": 22,
   "id": "6bf57c54",
   "metadata": {},
   "outputs": [
    {
     "name": "stdout",
     "output_type": "stream",
     "text": [
      "10\n",
      "9\n",
      "8\n",
      "7\n",
      "6\n",
      "5\n",
      "4\n",
      "3\n",
      "2\n",
      "1\n"
     ]
    }
   ],
   "source": [
    "for i in range(10,0,-1):\n",
    "    print(i)"
   ]
  },
  {
   "cell_type": "code",
   "execution_count": null,
   "id": "79679371",
   "metadata": {},
   "outputs": [],
   "source": [
    "# for pass keyword\n",
    "#pass keyword does nothing but you can avoid getting an error when empty code is not allowed. \n",
    "# empty code is not allowed in loops, if, else, condition, functions, classes etc."
   ]
  },
  {
   "cell_type": "code",
   "execution_count": 23,
   "id": "e40ad5e3",
   "metadata": {},
   "outputs": [],
   "source": [
    "if(4>2):\n",
    "    pass"
   ]
  },
  {
   "cell_type": "code",
   "execution_count": 25,
   "id": "89558403",
   "metadata": {},
   "outputs": [
    {
     "name": "stdout",
     "output_type": "stream",
     "text": [
      "A\n"
     ]
    }
   ],
   "source": [
    "if(4>2):\n",
    "    print(\"A\")\n",
    "else:\n",
    "    pass"
   ]
  },
  {
   "cell_type": "code",
   "execution_count": null,
   "id": "c4ba78e5",
   "metadata": {},
   "outputs": [],
   "source": [
    "if i in range()"
   ]
  }
 ],
 "metadata": {
  "kernelspec": {
   "display_name": "Python 3 (ipykernel)",
   "language": "python",
   "name": "python3"
  },
  "language_info": {
   "codemirror_mode": {
    "name": "ipython",
    "version": 3
   },
   "file_extension": ".py",
   "mimetype": "text/x-python",
   "name": "python",
   "nbconvert_exporter": "python",
   "pygments_lexer": "ipython3",
   "version": "3.9.7"
  }
 },
 "nbformat": 4,
 "nbformat_minor": 5
}
