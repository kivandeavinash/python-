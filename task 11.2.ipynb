{
 "cells": [
  {
   "cell_type": "code",
   "execution_count": 1,
   "id": "c4f8da2b",
   "metadata": {},
   "outputs": [],
   "source": [
    "# return keywords\n",
    "# return keywords can be used to return values of function\n",
    "# it can be used to end of exicution finction\n",
    "# statements below return keyword will not get exicuted"
   ]
  },
  {
   "cell_type": "code",
   "execution_count": 2,
   "id": "e6f0fb6c",
   "metadata": {},
   "outputs": [],
   "source": [
    "# returning sum"
   ]
  },
  {
   "cell_type": "code",
   "execution_count": 3,
   "id": "58be0a47",
   "metadata": {},
   "outputs": [],
   "source": [
    "def add(x,y):\n",
    "    z= x+y\n",
    "    return z\n",
    "    print(z)\n",
    "\n",
    "    "
   ]
  },
  {
   "cell_type": "code",
   "execution_count": 4,
   "id": "2cd7bd27",
   "metadata": {},
   "outputs": [
    {
     "data": {
      "text/plain": [
       "40"
      ]
     },
     "execution_count": 4,
     "metadata": {},
     "output_type": "execute_result"
    }
   ],
   "source": [
    "my_sum = add(10,20)\n",
    "my_sum +10\n"
   ]
  },
  {
   "cell_type": "code",
   "execution_count": 5,
   "id": "d338fd6f",
   "metadata": {},
   "outputs": [],
   "source": [
    "# returning product"
   ]
  },
  {
   "cell_type": "code",
   "execution_count": 6,
   "id": "ab48467f",
   "metadata": {},
   "outputs": [],
   "source": [
    "def product(x,y):\n",
    "    z=x*y\n",
    "    return z\n",
    "    print(z)"
   ]
  },
  {
   "cell_type": "code",
   "execution_count": 7,
   "id": "e9fdc40b",
   "metadata": {},
   "outputs": [
    {
     "data": {
      "text/plain": [
       "40"
      ]
     },
     "execution_count": 7,
     "metadata": {},
     "output_type": "execute_result"
    }
   ],
   "source": [
    "my_sum = product(20,2)\n",
    "my_sum"
   ]
  },
  {
   "cell_type": "code",
   "execution_count": 8,
   "id": "9a906a8e",
   "metadata": {},
   "outputs": [],
   "source": [
    "def add(x,y,z):\n",
    "    my_num=x+y+z\n",
    "    print(my_num)"
   ]
  },
  {
   "cell_type": "code",
   "execution_count": 9,
   "id": "509b64b7",
   "metadata": {},
   "outputs": [
    {
     "name": "stdout",
     "output_type": "stream",
     "text": [
      "60\n"
     ]
    }
   ],
   "source": [
    "add(10,20,30)"
   ]
  },
  {
   "cell_type": "code",
   "execution_count": 10,
   "id": "a6b40cbe",
   "metadata": {},
   "outputs": [
    {
     "name": "stdout",
     "output_type": "stream",
     "text": [
      "its , avash\n",
      "20\n"
     ]
    }
   ],
   "source": [
    "def myfunction():\n",
    "    return 10+10\n",
    "print(\"its , avash\")\n",
    "print(myfunction())"
   ]
  },
  {
   "cell_type": "code",
   "execution_count": 11,
   "id": "66c71d66",
   "metadata": {},
   "outputs": [],
   "source": [
    "# using num1 and num2"
   ]
  },
  {
   "cell_type": "code",
   "execution_count": 17,
   "id": "1198040b",
   "metadata": {},
   "outputs": [
    {
     "name": "stdout",
     "output_type": "stream",
     "text": [
      "enter the num1:  30\n",
      "enter the num2:  120\n",
      "enter the choice\n",
      "1) + \n",
      "2) - \n",
      "3) * \n",
      "4) / \n",
      "Enter operator to use1\n",
      "30 + 120 = 150\n"
     ]
    }
   ],
   "source": [
    "num1 = int(input(\"enter the num1:  \"))\n",
    "num2 = int(input(\"enter the num2:  \"))\n",
    "def add(num1,num2):\n",
    "    return num1+num2\n",
    "def sub(num1,num2):\n",
    "    return num1-num2\n",
    "def multiply(num1,num2):\n",
    "    return num1**num2\n",
    "def devide(num1,num2):\n",
    "    return num1/num2\n",
    "print(\"enter the choice\")\n",
    "print(\"1) + \")\n",
    "print(\"2) - \")\n",
    "print(\"3) * \")\n",
    "print(\"4) / \")\n",
    "choice = input(\"Enter operator to use\")\n",
    "if choice == \"1\":\n",
    "    print(num1,\"+\",num2,\"=\",add(num1,num2))\n",
    "elif choice ==\"2\":\n",
    "    print(num1,\"-\",num2,\"=\",sub(num1,num2))\n",
    "elif choice ==\"3\":\n",
    "    print(num1,\"*\",num2,\"=\",multiply(num1,num2))\n",
    "elif choice ==\"4\":\n",
    "    print(num1,\"/\",num2,\"=\",devide(num1,num2))\n",
    "    "
   ]
  },
  {
   "cell_type": "code",
   "execution_count": null,
   "id": "821ce752",
   "metadata": {},
   "outputs": [],
   "source": []
  }
 ],
 "metadata": {
  "kernelspec": {
   "display_name": "Python 3 (ipykernel)",
   "language": "python",
   "name": "python3"
  },
  "language_info": {
   "codemirror_mode": {
    "name": "ipython",
    "version": 3
   },
   "file_extension": ".py",
   "mimetype": "text/x-python",
   "name": "python",
   "nbconvert_exporter": "python",
   "pygments_lexer": "ipython3",
   "version": "3.9.7"
  }
 },
 "nbformat": 4,
 "nbformat_minor": 5
}
