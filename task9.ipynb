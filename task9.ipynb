{
 "cells": [
  {
   "cell_type": "code",
   "execution_count": null,
   "id": "bbd8f259",
   "metadata": {},
   "outputs": [],
   "source": [
    "# two numbers are using here num1 and num2"
   ]
  },
  {
   "cell_type": "code",
   "execution_count": 2,
   "id": "2ee21d0f",
   "metadata": {},
   "outputs": [
    {
     "name": "stdout",
     "output_type": "stream",
     "text": [
      "both numbers are same\n"
     ]
    }
   ],
   "source": [
    "num1=10\n",
    "num2=10\n",
    "if(num1==num2):\n",
    "        print(\"both numbers are same\")"
   ]
  },
  {
   "cell_type": "code",
   "execution_count": 4,
   "id": "96113819",
   "metadata": {},
   "outputs": [
    {
     "name": "stdout",
     "output_type": "stream",
     "text": [
      "numbers are different\n"
     ]
    }
   ],
   "source": [
    "num1=15\n",
    "num2=20\n",
    "if(num1!=num2):\n",
    "    print(\"numbers are different\")"
   ]
  },
  {
   "cell_type": "code",
   "execution_count": 8,
   "id": "e1131b8d",
   "metadata": {},
   "outputs": [
    {
     "name": "stdout",
     "output_type": "stream",
     "text": [
      "boyh numbers are diff\n"
     ]
    }
   ],
   "source": [
    "num1=15\n",
    "num2=20\n",
    "if(num1==num2):\n",
    "    print(\"both numbers are same\")\n",
    "else:\n",
    "    print(\"boyh numbers are diff\")    \n"
   ]
  },
  {
   "cell_type": "code",
   "execution_count": 2,
   "id": "23060f65",
   "metadata": {},
   "outputs": [
    {
     "name": "stdout",
     "output_type": "stream",
     "text": [
      "55.81\n"
     ]
    }
   ],
   "source": [
    "num1=42.27\n",
    "num2=13.54\n",
    "sum = num1 + num2\n",
    "print(sum)"
   ]
  },
  {
   "cell_type": "code",
   "execution_count": null,
   "id": "d27f0f9c",
   "metadata": {},
   "outputs": [],
   "source": [
    "# ask user to press 1 for addition 2for substraction 3 for multiplication and 4 for division\n",
    "# based on number given by user do the math operators"
   ]
  },
  {
   "cell_type": "code",
   "execution_count": 8,
   "id": "9f6d2e85",
   "metadata": {},
   "outputs": [
    {
     "name": "stdout",
     "output_type": "stream",
     "text": [
      "choose operators\n",
      "+\n",
      "-\n",
      "*\n",
      "/\n",
      "enter operators to use5*5\n",
      "enter first number\n",
      "enter second number5\n",
      "wrong number\n"
     ]
    }
   ],
   "source": [
    "def add(a,b):\n",
    "    return a+b\n",
    "def substract(a,b):\n",
    "    return a-b\n",
    "def multiply(a,b):\n",
    "    return a*b\n",
    "def division(a,b):\n",
    "    return a/b\n",
    "print(\"choose operators\")\n",
    "print(\"+\")\n",
    "print(\"-\")\n",
    "print(\"*\")\n",
    "print(\"/\")\n",
    "choise = input(\"enter operators to use\")\n",
    "a = (input(\"enter first number\"))\n",
    "b = (input(\"enter second number\"))\n",
    "if choise ==\"+\":\n",
    "    print(a,\"+\",b,\"=\",add(a,b))\n",
    "elif choise == \"-\":\n",
    "    print(a,\"-\",b,\"=\",substract(a,b))\n",
    "elif choise ==\"*\":\n",
    "    print(a,\"*\",b,\"=\",multiply(a,b))\n",
    "elif choise ==\"/\":\n",
    "    print(a,\"/\",b,\"=\",division(a,b))\n",
    "else:\n",
    "    print(\"wrong number\")\n",
    "    \n"
   ]
  },
  {
   "cell_type": "code",
   "execution_count": null,
   "id": "3f67c769",
   "metadata": {},
   "outputs": [],
   "source": []
  },
  {
   "cell_type": "code",
   "execution_count": null,
   "id": "eb930712",
   "metadata": {},
   "outputs": [],
   "source": []
  }
 ],
 "metadata": {
  "kernelspec": {
   "display_name": "Python 3 (ipykernel)",
   "language": "python",
   "name": "python3"
  },
  "language_info": {
   "codemirror_mode": {
    "name": "ipython",
    "version": 3
   },
   "file_extension": ".py",
   "mimetype": "text/x-python",
   "name": "python",
   "nbconvert_exporter": "python",
   "pygments_lexer": "ipython3",
   "version": "3.9.7"
  }
 },
 "nbformat": 4,
 "nbformat_minor": 5
}
